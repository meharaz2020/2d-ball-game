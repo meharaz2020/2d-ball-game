{
  "nbformat": 4,
  "nbformat_minor": 0,
  "metadata": {
    "colab": {
      "provenance": [],
      "authorship_tag": "ABX9TyPnFtTYF4mhsfhFt36ssqid",
      "include_colab_link": true
    },
    "kernelspec": {
      "name": "python3",
      "display_name": "Python 3"
    },
    "language_info": {
      "name": "python"
    }
  },
  "cells": [
    {
      "cell_type": "markdown",
      "metadata": {
        "id": "view-in-github",
        "colab_type": "text"
      },
      "source": [
        "<a href=\"https://colab.research.google.com/github/meharaz2020/2d-ball-game/blob/master/candidate_monitization.ipynb\" target=\"_parent\"><img src=\"https://colab.research.google.com/assets/colab-badge.svg\" alt=\"Open In Colab\"/></a>"
      ]
    },
    {
      "cell_type": "code",
      "source": [
        "pip install dash"
      ],
      "metadata": {
        "colab": {
          "base_uri": "https://localhost:8080/"
        },
        "id": "HtT6F7bzUq7B",
        "outputId": "295fe8ff-3d1d-4b0b-83a0-828930a9c490"
      },
      "execution_count": 2,
      "outputs": [
        {
          "output_type": "stream",
          "name": "stdout",
          "text": [
            "Collecting dash\n",
            "  Downloading dash-2.14.2-py3-none-any.whl (10.2 MB)\n",
            "\u001b[2K     \u001b[90m━━━━━━━━━━━━━━━━━━━━━━━━━━━━━━━━━━━━━━━━\u001b[0m \u001b[32m10.2/10.2 MB\u001b[0m \u001b[31m21.7 MB/s\u001b[0m eta \u001b[36m0:00:00\u001b[0m\n",
            "\u001b[?25hRequirement already satisfied: Flask<3.1,>=1.0.4 in /usr/local/lib/python3.10/dist-packages (from dash) (2.2.5)\n",
            "Requirement already satisfied: Werkzeug<3.1 in /usr/local/lib/python3.10/dist-packages (from dash) (3.0.1)\n",
            "Requirement already satisfied: plotly>=5.0.0 in /usr/local/lib/python3.10/dist-packages (from dash) (5.15.0)\n",
            "Collecting dash-html-components==2.0.0 (from dash)\n",
            "  Downloading dash_html_components-2.0.0-py3-none-any.whl (4.1 kB)\n",
            "Collecting dash-core-components==2.0.0 (from dash)\n",
            "  Downloading dash_core_components-2.0.0-py3-none-any.whl (3.8 kB)\n",
            "Collecting dash-table==5.0.0 (from dash)\n",
            "  Downloading dash_table-5.0.0-py3-none-any.whl (3.9 kB)\n",
            "Requirement already satisfied: typing-extensions>=4.1.1 in /usr/local/lib/python3.10/dist-packages (from dash) (4.5.0)\n",
            "Requirement already satisfied: requests in /usr/local/lib/python3.10/dist-packages (from dash) (2.31.0)\n",
            "Collecting retrying (from dash)\n",
            "  Downloading retrying-1.3.4-py3-none-any.whl (11 kB)\n",
            "Collecting ansi2html (from dash)\n",
            "  Downloading ansi2html-1.9.1-py3-none-any.whl (17 kB)\n",
            "Requirement already satisfied: nest-asyncio in /usr/local/lib/python3.10/dist-packages (from dash) (1.5.8)\n",
            "Requirement already satisfied: setuptools in /usr/local/lib/python3.10/dist-packages (from dash) (67.7.2)\n",
            "Requirement already satisfied: importlib-metadata in /usr/local/lib/python3.10/dist-packages (from dash) (7.0.1)\n",
            "Requirement already satisfied: Jinja2>=3.0 in /usr/local/lib/python3.10/dist-packages (from Flask<3.1,>=1.0.4->dash) (3.1.2)\n",
            "Requirement already satisfied: itsdangerous>=2.0 in /usr/local/lib/python3.10/dist-packages (from Flask<3.1,>=1.0.4->dash) (2.1.2)\n",
            "Requirement already satisfied: click>=8.0 in /usr/local/lib/python3.10/dist-packages (from Flask<3.1,>=1.0.4->dash) (8.1.7)\n",
            "Requirement already satisfied: tenacity>=6.2.0 in /usr/local/lib/python3.10/dist-packages (from plotly>=5.0.0->dash) (8.2.3)\n",
            "Requirement already satisfied: packaging in /usr/local/lib/python3.10/dist-packages (from plotly>=5.0.0->dash) (23.2)\n",
            "Requirement already satisfied: MarkupSafe>=2.1.1 in /usr/local/lib/python3.10/dist-packages (from Werkzeug<3.1->dash) (2.1.3)\n",
            "Requirement already satisfied: zipp>=0.5 in /usr/local/lib/python3.10/dist-packages (from importlib-metadata->dash) (3.17.0)\n",
            "Requirement already satisfied: charset-normalizer<4,>=2 in /usr/local/lib/python3.10/dist-packages (from requests->dash) (3.3.2)\n",
            "Requirement already satisfied: idna<4,>=2.5 in /usr/local/lib/python3.10/dist-packages (from requests->dash) (3.6)\n",
            "Requirement already satisfied: urllib3<3,>=1.21.1 in /usr/local/lib/python3.10/dist-packages (from requests->dash) (2.0.7)\n",
            "Requirement already satisfied: certifi>=2017.4.17 in /usr/local/lib/python3.10/dist-packages (from requests->dash) (2023.11.17)\n",
            "Requirement already satisfied: six>=1.7.0 in /usr/local/lib/python3.10/dist-packages (from retrying->dash) (1.16.0)\n",
            "Installing collected packages: dash-table, dash-html-components, dash-core-components, retrying, ansi2html, dash\n",
            "Successfully installed ansi2html-1.9.1 dash-2.14.2 dash-core-components-2.0.0 dash-html-components-2.0.0 dash-table-5.0.0 retrying-1.3.4\n"
          ]
        }
      ]
    },
    {
      "cell_type": "code",
      "source": [
        "import dash\n",
        "from dash import dcc, html\n",
        "from dash.dependencies import Input, Output\n",
        "import plotly.express as px\n",
        "import pandas as pd\n",
        "\n",
        "url = 'https://raw.githubusercontent.com/meharaz2020/ex/master/CM.xlsx'\n",
        "\n",
        "# Read Excel file from the URL\n",
        "df = pd.read_excel(url)\n",
        "# Calculate CM day wise subscriptions\n",
        "df['Purchase Date'] = pd.to_datetime(df['Purchase Date'])\n",
        "# Calculate total earnings where Payment Status is 'S'\n",
        "total_earnings = df[df['Payment Status'] == 'S']['Price'].sum()\n",
        "\n",
        "# Format the total earnings to include only the BDT symbol\n",
        "total_earnings_formatted = f\"৳{total_earnings:,.0f}\"  # Assuming 'total_earnings' is in integer format\n",
        "\n",
        "\n",
        "# Initialize the Dash app\n",
        "app = dash.Dash(__name__)\n",
        "server = app.server\n",
        "\n",
        "\n",
        "# Layout for the dashboard\n",
        "app.layout = html.Div([\n",
        "    html.H1(\"Dashboard For Candidate Monetization\", style={'textAlign': 'center'}),\n",
        "\n",
        "    html.Div([\n",
        "        html.H3(f\"Total Earnings : {total_earnings_formatted}\", style={'textAlign': 'center', 'margin-bottom': '20px'})\n",
        "    ]),\n",
        "    dcc.DatePickerRange(\n",
        "        id='date-range-picker',\n",
        "        min_date_allowed=df['Purchase Date'].min(),\n",
        "        max_date_allowed=df['Purchase Date'].max(),\n",
        "        initial_visible_month=df['Purchase Date'].max(),\n",
        "        start_date=df['Purchase Date'].min(),\n",
        "        end_date=df['Purchase Date'].max(),\n",
        "        display_format='YYYY-MM-DD',\n",
        "        style={'margin': '20px'}\n",
        "    ),\n",
        "\n",
        "    dcc.Graph(id='amount-per-package'),\n",
        "    dcc.Graph(id='gender-per-payment'),\n",
        "    dcc.Graph(id='payment-gender-distribution'),\n",
        "    dcc.Graph(id='price-per-payment-status'),\n",
        "    dcc.Graph(id='price-per-package'),\n",
        "    dcc.Graph(id='price-per-method')\n",
        "])\n",
        "\n",
        "# Callback to update the graphs based on the selected date range\n",
        "@app.callback(\n",
        "    [Output('amount-per-package', 'figure'),\n",
        "     Output('gender-per-payment', 'figure'),\n",
        "     Output('payment-gender-distribution', 'figure'),\n",
        "     Output('price-per-payment-status', 'figure'),\n",
        "     Output('price-per-package', 'figure'),  # New output for Package Name wise total price\n",
        "     Output('price-per-method', 'figure')],  # New output for Package Name wise total price\n",
        "    [Input('date-range-picker', 'start_date'),\n",
        "     Input('date-range-picker', 'end_date')]\n",
        ")\n",
        "def update_graphs(start_date, end_date):\n",
        "    filtered_df = df[(df['Purchase Date'] >= start_date) & (df['Purchase Date'] <= end_date)]\n",
        "\n",
        "    amount_per_package = filtered_df.groupby('Package Name')['Price'].sum().reset_index()\n",
        "    grouped_df = filtered_df.groupby('Payment Status')['SEX'].value_counts().reset_index(name='Count')\n",
        "\n",
        "    fig_amount_per_package = px.pie(amount_per_package, values='Price', names='Package Name', title='Total Amount per Package Name')\n",
        "    fig_gender_per_payment = px.pie(grouped_df, values='Count', names='SEX', title='Total F/M per Payment Status')\n",
        "    fig_payment_gender_distribution = px.bar(grouped_df, x='Payment Status', y='Count', color='SEX',\n",
        "                                             title='Payment Type Wise Gender Distribution',\n",
        "                                             labels={'Payment Status': 'Payment Type', 'Count': 'Count of Gender'})\n",
        "\n",
        "    # New graph calculation for Price per Payment Status\n",
        "    price_per_payment_status = filtered_df.groupby('Payment Status')['Price'].sum().reset_index()\n",
        "    fig_price_per_payment_status = px.bar(price_per_payment_status, x='Payment Status', y='Price',\n",
        "                                          title='Total Price per Payment Status',\n",
        "                                          labels={'Payment Status': 'Payment Status', 'Price': 'Total Price'})\n",
        "\n",
        "    # New graph calculation for Price per Package Name\n",
        "    price_per_package = filtered_df.groupby('Package Name')['Price'].sum().reset_index()\n",
        "    fig_price_per_package = px.bar(price_per_package, x='Package Name', y='Price',\n",
        "                                   title='Total Price per Package Name',\n",
        "                                   labels={'Package Name': 'Package Name', 'Price': 'Total Price'})\n",
        "     # New graph calculation for Price per Payment Method\n",
        "\n",
        "    price_per_Method = filtered_df.groupby('Payment Method')['Price'].sum().reset_index()\n",
        "    fig_price_per_Method = px.bar(price_per_Method, x='Payment Method', y='Price',\n",
        "                                   title='Total Price per Payment Method',\n",
        "                                   labels={'Payment Method': 'Payment Method', 'Price': 'Total Price'})\n",
        "\n",
        "    return fig_amount_per_package, fig_gender_per_payment, fig_payment_gender_distribution, fig_price_per_payment_status, fig_price_per_package,fig_price_per_Method\n",
        "\n",
        "# Running the app\n",
        "if __name__ == '__main__':\n",
        "    app.run_server(debug=False)\n"
      ],
      "metadata": {
        "colab": {
          "base_uri": "https://localhost:8080/",
          "height": 671
        },
        "id": "QJwX8DMuUtDh",
        "outputId": "f958e6c0-c558-4397-b50c-4bd7d9c4a279"
      },
      "execution_count": 3,
      "outputs": [
        {
          "output_type": "display_data",
          "data": {
            "text/plain": [
              "<IPython.core.display.Javascript object>"
            ],
            "application/javascript": [
              "(async (port, path, width, height, cache, element) => {\n",
              "    if (!google.colab.kernel.accessAllowed && !cache) {\n",
              "      return;\n",
              "    }\n",
              "    element.appendChild(document.createTextNode(''));\n",
              "    const url = await google.colab.kernel.proxyPort(port, {cache});\n",
              "    const iframe = document.createElement('iframe');\n",
              "    iframe.src = new URL(path, url).toString();\n",
              "    iframe.height = height;\n",
              "    iframe.width = width;\n",
              "    iframe.style.border = 0;\n",
              "    iframe.allow = [\n",
              "        'accelerometer',\n",
              "        'autoplay',\n",
              "        'camera',\n",
              "        'clipboard-read',\n",
              "        'clipboard-write',\n",
              "        'gyroscope',\n",
              "        'magnetometer',\n",
              "        'microphone',\n",
              "        'serial',\n",
              "        'usb',\n",
              "        'xr-spatial-tracking',\n",
              "    ].join('; ');\n",
              "    element.appendChild(iframe);\n",
              "  })(8050, \"/\", \"100%\", 650, false, window.element)"
            ]
          },
          "metadata": {}
        }
      ]
    },
    {
      "cell_type": "code",
      "source": [],
      "metadata": {
        "id": "XilxRDh3UwwY"
      },
      "execution_count": null,
      "outputs": []
    }
  ]
}